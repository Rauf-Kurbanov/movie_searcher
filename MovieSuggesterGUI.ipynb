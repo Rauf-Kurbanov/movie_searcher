{
 "cells": [
  {
   "cell_type": "code",
   "execution_count": 2,
   "metadata": {
    "collapsed": false
   },
   "outputs": [
    {
     "ename": "SystemExit",
     "evalue": "0",
     "output_type": "error",
     "traceback": [
      "An exception has occurred, use %tb to see the full traceback.\n",
      "\u001b[1;31mSystemExit\u001b[0m\u001b[1;31m:\u001b[0m 0\n"
     ]
    },
    {
     "name": "stderr",
     "output_type": "stream",
     "text": [
      "To exit: use 'exit', 'quit', or Ctrl-D.\n"
     ]
    }
   ],
   "source": [
    "import numpy as np\n",
    "import sys, urllib\n",
    "import requests\n",
    "from PyQt4 import QtGui, QtCore\n",
    "import ssl\n",
    "\n",
    "class MovieSuggesterGui(QtGui.QWidget):\n",
    "    \n",
    "    def __init__(self):\n",
    "        super(MovieSuggesterGui, self).__init__()\n",
    "        \n",
    "        self.initUI()\n",
    "        \n",
    "    def initUI(self):\n",
    "        '''Welcome screen'''\n",
    "        \n",
    "        #Grid Layout\n",
    "        self.grid = QtGui.QGridLayout()\n",
    "        self.setLayout(self.grid)\n",
    "        \n",
    "        #Search Button\n",
    "        self.btn = QtGui.QPushButton('Search', self)\n",
    "        self.btn.clicked.connect(self.runSearch)      \n",
    "        self.grid.addWidget(self.btn, 0,2,1,1)\n",
    "        \n",
    "        #X Size\n",
    "        self.x = QtGui.QLineEdit(self)\n",
    "        self.x.setText('200')\n",
    "        self.grid.addWidget(self.x, 1,2,1,1)\n",
    "        \n",
    "        #Y Size\n",
    "        self.y = QtGui.QLineEdit(self)\n",
    "        self.y.setText('200')\n",
    "        self.grid.addWidget(self.y, 2,2,1,1)\n",
    "        \n",
    "        #PLaceholder\n",
    "        self.label = QtGui.QLabel(self)\n",
    "        self.label.setText('\\t\\t\\t\\t')\n",
    "        self.grid.addWidget(self.label,2,0,1,1)\n",
    "        \n",
    "        #Image\n",
    "        self.img = QtGui.QLabel(self)\n",
    "        self.grid.addWidget(self.img, 0,0,2,2)\n",
    "        \n",
    "        #Customize Widgets\n",
    "        self.resize(500, 250)\n",
    "        self.center()\n",
    "        self.setWindowTitle('Random Kitty Generator')    \n",
    "        self.show()\n",
    "        \n",
    "    def runSearch(self):\n",
    "        '''Search Image'''        \n",
    "        \n",
    "        ctx = ssl.create_default_context()\n",
    "        ctx.check_hostname = False\n",
    "        ctx.verify_mode = ssl.CERT_NONE\n",
    "\n",
    "        x = self.x.text()\n",
    "        y = self.y.text()\n",
    "        n = str(np.random.randint(20))\n",
    "        base = \"https://placekitten.com/\"\n",
    "        img_url = base + '{}/{}?image={}'.format(x,y,n)\n",
    "        data = urllib.request.urlopen(img_url, context = ctx).read()\n",
    "        image = QtGui.QImage()\n",
    "        image.loadFromData(data)\n",
    "        self.img.setPixmap(QtGui.QPixmap(image))\n",
    "        \n",
    "    def center(self):\n",
    "        '''Center Widget on screen'''\n",
    "        qr = self.frameGeometry()\n",
    "        cp = QtGui.QDesktopWidget().availableGeometry().center()\n",
    "        qr.moveCenter(cp)\n",
    "        self.move(qr.topLeft())\n",
    "        \n",
    "def main():\n",
    "    '''Codes for running GUI'''\n",
    "    \n",
    "    #Create Application object to run GUI\n",
    "    app = QtGui.QApplication(sys.argv)\n",
    "    app.aboutToQuit.connect(app.deleteLater)\n",
    "    \n",
    "    #Run GUI\n",
    "    gui = MovieSuggesterGui()\n",
    "    \n",
    "    #Exit cleanly when closing GUI\n",
    "    sys.exit(app.exec_())\n",
    "\n",
    "\n",
    "if __name__ == '__main__':\n",
    "    main()"
   ]
  }
 ],
 "metadata": {
  "kernelspec": {
   "display_name": "Python [Root]",
   "language": "python",
   "name": "Python [Root]"
  },
  "language_info": {
   "codemirror_mode": {
    "name": "ipython",
    "version": 3
   },
   "file_extension": ".py",
   "mimetype": "text/x-python",
   "name": "python",
   "nbconvert_exporter": "python",
   "pygments_lexer": "ipython3",
   "version": "3.5.1"
  }
 },
 "nbformat": 4,
 "nbformat_minor": 0
}
