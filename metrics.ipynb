{
 "cells": [
  {
   "cell_type": "code",
   "execution_count": 109,
   "metadata": {
    "collapsed": true
   },
   "outputs": [],
   "source": [
    "from os.path import join as pathJoin\n",
    "import pandas as pd\n",
    "import numpy as np\n",
    "import pickle\n",
    "import scipy.spatial.distance as dist\n",
    "from sklearn.preprocessing import normalize"
   ]
  },
  {
   "cell_type": "code",
   "execution_count": 2,
   "metadata": {
    "collapsed": true
   },
   "outputs": [],
   "source": [
    "# data_root = \"/media/rauf/TOSHIBA EXT/STORAGE/DATA/movies/tag-genome/tag-genome\"\n",
    "data_root = \"/home/rauf/Programs/data/movies\"\n",
    "\n",
    "MovieID_TagID_Relevance = pathJoin(data_root, \"tag_relevance.dat\")\n",
    "MovieID_Title_MoviePopularity = pathJoin(data_root, \"movies.dat\")\n",
    "TagID_Tag_TagPopularity = pathJoin(data_root, \"tags.dat\")"
   ]
  },
  {
   "cell_type": "code",
   "execution_count": 3,
   "metadata": {
    "collapsed": true
   },
   "outputs": [],
   "source": [
    "tag_relevance = pd.read_csv(MovieID_TagID_Relevance, delimiter='\\t', header=None, names=['MovieID', 'TagID', 'Relevance'])\n",
    "movies = pd.read_csv(MovieID_Title_MoviePopularity, delimiter='\\t', header=None, names=['MovieID', 'Title', 'MoviePopularity'])\n",
    "tags = pd.read_csv(MovieID_Title_MoviePopularity, delimiter='\\t', header=None, names=['TagID', 'Tag', 'TagPopularity'])"
   ]
  },
  {
   "cell_type": "code",
   "execution_count": 4,
   "metadata": {
    "collapsed": true
   },
   "outputs": [],
   "source": [
    "with open('pickled/genome.pickle', 'rb') as f:\n",
    "    genome = pickle.load(f)"
   ]
  },
  {
   "cell_type": "code",
   "execution_count": 19,
   "metadata": {
    "collapsed": true
   },
   "outputs": [],
   "source": [
    "genome = np.array(genome)"
   ]
  },
  {
   "cell_type": "code",
   "execution_count": 49,
   "metadata": {
    "collapsed": true
   },
   "outputs": [],
   "source": [
    "genome = genome.T"
   ]
  },
  {
   "cell_type": "code",
   "execution_count": 50,
   "metadata": {
    "collapsed": false
   },
   "outputs": [],
   "source": [
    "def popularity(tagId):\n",
    "    return tags.TagPopularity[tagId]"
   ]
  },
  {
   "cell_type": "code",
   "execution_count": 51,
   "metadata": {
    "collapsed": true
   },
   "outputs": [],
   "source": [
    "def docFreq(tag):\n",
    "    byTag = genome[:, tag]\n",
    "    specific = [x for x in byTag if x > 0.5]\n",
    "    return len(specific)"
   ]
  },
  {
   "cell_type": "code",
   "execution_count": 52,
   "metadata": {
    "collapsed": false
   },
   "outputs": [
    {
     "data": {
      "text/plain": [
       "9734"
      ]
     },
     "execution_count": 52,
     "metadata": {},
     "output_type": "execute_result"
    }
   ],
   "source": [
    "nTags = tags.shape[0]\n",
    "nTags"
   ]
  },
  {
   "cell_type": "code",
   "execution_count": 53,
   "metadata": {
    "collapsed": false
   },
   "outputs": [
    {
     "data": {
      "text/plain": [
       "(1128, 9734)"
      ]
     },
     "execution_count": 53,
     "metadata": {},
     "output_type": "execute_result"
    }
   ],
   "source": [
    "# rows - movies\n",
    "# columns - tags\n",
    "genome.shape"
   ]
  },
  {
   "cell_type": "code",
   "execution_count": 115,
   "metadata": {
    "collapsed": false
   },
   "outputs": [],
   "source": [
    "tag_weights = np.array([np.log(popularity(tagId)) / np.log(docFreq(tagId)) for tagId in range(nTags)])"
   ]
  },
  {
   "cell_type": "code",
   "execution_count": 142,
   "metadata": {
    "collapsed": false
   },
   "outputs": [
    {
     "data": {
      "text/plain": [
       "[inf,\n",
       " 8.1344263202209266,\n",
       " 5.2702488681577071,\n",
       " 5.1978546720042988,\n",
       " 4.7598181264216066]"
      ]
     },
     "execution_count": 142,
     "metadata": {},
     "output_type": "execute_result"
    }
   ],
   "source": [
    "# need to get rid of inf\n",
    "sorted(tag_weights, reverse=True)[:5]"
   ]
  },
  {
   "cell_type": "code",
   "execution_count": 145,
   "metadata": {
    "collapsed": false
   },
   "outputs": [],
   "source": [
    "infID = np.argmax(tag_weights)\n",
    "tag_weights[infID] = 9"
   ]
  },
  {
   "cell_type": "code",
   "execution_count": 162,
   "metadata": {
    "collapsed": true
   },
   "outputs": [],
   "source": [
    "def weightedCosSimi(u, v):\n",
    "    '''Not exactly like in the article'''\n",
    "    return dist.cosine(u * tag_weights, v * tag_weights)"
   ]
  },
  {
   "cell_type": "code",
   "execution_count": 167,
   "metadata": {
    "collapsed": true
   },
   "outputs": [],
   "source": [
    "def articleCosSimi(u, v):\n",
    "    '''Exactly like in the article'''\n",
    "    w = tag_weights\n",
    "    x = np.sum(w * u * v)\n",
    "    y = np.sqrt(sum(w * u * u)) * np.sqrt(sum(w * v * v)) \n",
    "    return  x / y "
   ]
  },
  {
   "cell_type": "code",
   "execution_count": 169,
   "metadata": {
    "collapsed": false
   },
   "outputs": [
    {
     "name": "stdout",
     "output_type": "stream",
     "text": [
      "0.142785262082\n",
      "0.848177542814\n"
     ]
    }
   ],
   "source": [
    "# lets compare\n",
    "# we can just try both\n",
    "print(weightedCosSimi(u, v))\n",
    "print(articleCosSimi(u, v))"
   ]
  },
  {
   "cell_type": "code",
   "execution_count": 170,
   "metadata": {
    "collapsed": true
   },
   "outputs": [],
   "source": [
    "def rel(tagId, movId):\n",
    "    return genome[movId, tagId]"
   ]
  },
  {
   "cell_type": "code",
   "execution_count": 172,
   "metadata": {
    "collapsed": false
   },
   "outputs": [],
   "source": [
    "def critiqueDist(critiquedMovieId, retrievedMovieId, tagId, direction):\n",
    "    ic, ir, t, d  = critiquedMovieId, retrievedMovieId, tagId, direction\n",
    "    return max(0, rel(t, ir) - rel(t, ic) * d)"
   ]
  },
  {
   "cell_type": "code",
   "execution_count": null,
   "metadata": {
    "collapsed": true
   },
   "outputs": [],
   "source": [
    "# TODO\n",
    "# neighbors\n",
    "# N_+ N_- N_0\n",
    "# critique-entropy"
   ]
  }
 ],
 "metadata": {
  "anaconda-cloud": {},
  "kernelspec": {
   "display_name": "Python [default]",
   "language": "python",
   "name": "python3"
  },
  "language_info": {
   "codemirror_mode": {
    "name": "ipython",
    "version": 3
   },
   "file_extension": ".py",
   "mimetype": "text/x-python",
   "name": "python",
   "nbconvert_exporter": "python",
   "pygments_lexer": "ipython3",
   "version": "3.5.2"
  }
 },
 "nbformat": 4,
 "nbformat_minor": 0
}
