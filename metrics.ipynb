{
 "cells": [
  {
   "cell_type": "code",
   "execution_count": 52,
   "metadata": {
    "collapsed": true
   },
   "outputs": [],
   "source": [
    "from os.path import join as pathJoin\n",
    "import pandas as pd\n",
    "import numpy as np\n",
    "import pickle\n",
    "import scipy.spatial.distance as dist\n",
    "from sklearn.preprocessing import normalize\n",
    "from sklearn.neighbors import NearestNeighbors\n",
    "import itertools as itt"
   ]
  },
  {
   "cell_type": "code",
   "execution_count": 2,
   "metadata": {
    "collapsed": true
   },
   "outputs": [],
   "source": [
    "data_root = \"tag-genome/\"\n",
    "\n",
    "MovieID_TagID_Relevance = pathJoin(data_root, \"tag_relevance.dat\")\n",
    "MovieID_Title_MoviePopularity = pathJoin(data_root, \"movies.dat\")\n",
    "TagID_Tag_TagPopularity = pathJoin(data_root, \"tags.dat\")"
   ]
  },
  {
   "cell_type": "code",
   "execution_count": 3,
   "metadata": {
    "collapsed": true
   },
   "outputs": [],
   "source": [
    "tag_relevance = pd.read_csv(MovieID_TagID_Relevance, delimiter='\\t', header=None, names=['MovieID', 'TagID', 'Relevance'])\n",
    "movies = pd.read_csv(MovieID_Title_MoviePopularity, delimiter='\\t', header=None, names=['MovieID', 'Title', 'MoviePopularity'])\n",
    "tags = pd.read_csv(TagID_Tag_TagPopularity, delimiter='\\t', header=None, names=['TagID', 'Tag', 'TagPopularity'])"
   ]
  },
  {
   "cell_type": "code",
   "execution_count": 4,
   "metadata": {
    "collapsed": true
   },
   "outputs": [],
   "source": [
    "with open('pickled/genome.pickle', 'rb') as f:\n",
    "    genome = pickle.load(f)"
   ]
  },
  {
   "cell_type": "code",
   "execution_count": 5,
   "metadata": {
    "collapsed": true
   },
   "outputs": [],
   "source": [
    "genome = np.array(genome)"
   ]
  },
  {
   "cell_type": "code",
   "execution_count": 7,
   "metadata": {
    "collapsed": false
   },
   "outputs": [],
   "source": [
    "def popularity(tagId):\n",
    "    return tags.TagPopularity[tagId]"
   ]
  },
  {
   "cell_type": "code",
   "execution_count": 8,
   "metadata": {
    "collapsed": true
   },
   "outputs": [],
   "source": [
    "def docFreq(tag):\n",
    "    byTag = genome[:, tag]\n",
    "    specific = [x for x in byTag if x > 0.5]\n",
    "    return len(specific)"
   ]
  },
  {
   "cell_type": "code",
   "execution_count": 11,
   "metadata": {
    "collapsed": false
   },
   "outputs": [],
   "source": [
    "tag_weights = np.array([np.log(popularity(tagId)) / np.log(docFreq(tagId)) for tagId in range(nTags)])"
   ]
  },
  {
   "cell_type": "code",
   "execution_count": 12,
   "metadata": {
    "collapsed": false
   },
   "outputs": [
    {
     "data": {
      "text/plain": [
       "[inf,\n",
       " 3.2618595071429146,\n",
       " 3.154648767857287,\n",
       " 2.54373142062517,\n",
       " 2.4429806222085735]"
      ]
     },
     "execution_count": 12,
     "metadata": {},
     "output_type": "execute_result"
    }
   ],
   "source": [
    "# need to get rid of inf\n",
    "sorted(tag_weights, reverse=True)[:5]"
   ]
  },
  {
   "cell_type": "code",
   "execution_count": 13,
   "metadata": {
    "collapsed": false
   },
   "outputs": [],
   "source": [
    "infID = np.argmax(tag_weights)\n",
    "tag_weights[infID] = 9"
   ]
  },
  {
   "cell_type": "code",
   "execution_count": 14,
   "metadata": {
    "collapsed": true
   },
   "outputs": [],
   "source": [
    "def weightedCosSimi(u, v):\n",
    "    '''Not exactly like in the article'''\n",
    "    return dist.cosine(u * tag_weights, v * tag_weights)"
   ]
  },
  {
   "cell_type": "code",
   "execution_count": 17,
   "metadata": {
    "collapsed": true
   },
   "outputs": [],
   "source": [
    "def articleCosSimi(u, v):\n",
    "    '''Exactly like in the article'''\n",
    "    w = tag_weights\n",
    "    x = np.sum(w * u * v)\n",
    "    y = np.sqrt(sum(w * u * u)) * np.sqrt(sum(w * v * v)) \n",
    "    return  x / y "
   ]
  },
  {
   "cell_type": "code",
   "execution_count": 18,
   "metadata": {
    "collapsed": true
   },
   "outputs": [],
   "source": [
    "def rel(tagId, movId):\n",
    "    return genome[movId, tagId]"
   ]
  },
  {
   "cell_type": "code",
   "execution_count": 19,
   "metadata": {
    "collapsed": false
   },
   "outputs": [],
   "source": [
    "# def critiqueDist(critiquedMovieId, retrievedMovieId, tagId, direction):\n",
    "#     ic, ir, t, d  = critiquedMovieId, retrievedMovieId, tagId, direction\n",
    "#     return max(0, rel(t, ir) - rel(t, ic) * d)"
   ]
  },
  {
   "cell_type": "code",
   "execution_count": 26,
   "metadata": {
    "collapsed": true
   },
   "outputs": [],
   "source": [
    "def printNeigh(randMovNum, indices):\n",
    "    neighbors = indices[randMovNum]\n",
    "    for mid in neighbors:\n",
    "        print(movies.loc[mid][\"Title\"])"
   ]
  },
  {
   "cell_type": "code",
   "execution_count": null,
   "metadata": {
    "collapsed": false
   },
   "outputs": [],
   "source": [
    "X = genome\n",
    "nbrs_art2 = NearestNeighbors(algorithm=\"brute\", metric=articleCosSimi, n_neighbors=250)\n",
    "nbrs_art2.fit(X)\n",
    "distances_art2, indices_art2 = nbrs_art2.kneighbors(X)"
   ]
  },
  {
   "cell_type": "code",
   "execution_count": null,
   "metadata": {
    "collapsed": true
   },
   "outputs": [],
   "source": [
    "with open('pickled/KNN-neib=250-metr=article.pickle', 'wb') as f:\n",
    "    pickle.dump(nbrs_art2, f)"
   ]
  },
  {
   "cell_type": "code",
   "execution_count": 269,
   "metadata": {
    "collapsed": false
   },
   "outputs": [
    {
     "data": {
      "text/html": [
       "<div>\n",
       "<table border=\"1\" class=\"dataframe\">\n",
       "  <thead>\n",
       "    <tr style=\"text-align: right;\">\n",
       "      <th></th>\n",
       "      <th>MovieID</th>\n",
       "      <th>Title</th>\n",
       "      <th>MoviePopularity</th>\n",
       "    </tr>\n",
       "  </thead>\n",
       "  <tbody>\n",
       "    <tr>\n",
       "      <th>0</th>\n",
       "      <td>1</td>\n",
       "      <td>Toy Story (1995)</td>\n",
       "      <td>53059</td>\n",
       "    </tr>\n",
       "    <tr>\n",
       "      <th>1</th>\n",
       "      <td>2</td>\n",
       "      <td>Jumanji (1995)</td>\n",
       "      <td>22466</td>\n",
       "    </tr>\n",
       "    <tr>\n",
       "      <th>2</th>\n",
       "      <td>3</td>\n",
       "      <td>Grumpier Old Men (1995)</td>\n",
       "      <td>15111</td>\n",
       "    </tr>\n",
       "    <tr>\n",
       "      <th>3</th>\n",
       "      <td>4</td>\n",
       "      <td>Waiting to Exhale (1995)</td>\n",
       "      <td>2898</td>\n",
       "    </tr>\n",
       "    <tr>\n",
       "      <th>4</th>\n",
       "      <td>5</td>\n",
       "      <td>Father of the Bride Part II (1995)</td>\n",
       "      <td>14323</td>\n",
       "    </tr>\n",
       "  </tbody>\n",
       "</table>\n",
       "</div>"
      ],
      "text/plain": [
       "   MovieID                               Title  MoviePopularity\n",
       "0        1                    Toy Story (1995)            53059\n",
       "1        2                      Jumanji (1995)            22466\n",
       "2        3             Grumpier Old Men (1995)            15111\n",
       "3        4            Waiting to Exhale (1995)             2898\n",
       "4        5  Father of the Bride Part II (1995)            14323"
      ]
     },
     "execution_count": 269,
     "metadata": {},
     "output_type": "execute_result"
    }
   ],
   "source": [
    "movies.head()"
   ]
  },
  {
   "cell_type": "code",
   "execution_count": 283,
   "metadata": {
    "collapsed": false
   },
   "outputs": [],
   "source": [
    "def N(i):\n",
    "    return indices_art2[randMovNum]\n",
    "\n",
    "def Np(i, t):\n",
    "    delta = 0.23\n",
    "    return [j for j in N(i) if rel(t, j) > rel(t, i) + delta]\n",
    "\n",
    "def Nn(i, t):\n",
    "    delta = 0.23\n",
    "    return [j for j in N(i) if rel(t, j) < rel(t, i) - delta]\n",
    "\n",
    "def Nz(i, t):\n",
    "    return [j for j in N(i) if j not in Np(i, t) and  j not in Nn(i, t)]"
   ]
  },
  {
   "cell_type": "code",
   "execution_count": null,
   "metadata": {
    "collapsed": true
   },
   "outputs": [],
   "source": [
    "def critiqueEntropy(t, i):\n",
    "    Nd = np.array(Nn(i, t), Nz(i, t), Np(i, t))\n",
    "    modNd = [len(Nx) for Nx in Nd]\n",
    "    modN = len(N(i))\n",
    "    return np.sum(- modNd / modN * np.log(modNd / modN))"
   ]
  },
  {
   "cell_type": "code",
   "execution_count": 286,
   "metadata": {
    "collapsed": false
   },
   "outputs": [],
   "source": [
    "def idToNum(num):\n",
    "    pass"
   ]
  },
  {
   "cell_type": "code",
   "execution_count": 289,
   "metadata": {
    "collapsed": false
   },
   "outputs": [
    {
     "data": {
      "text/plain": [
       "'Toy Story (1995)'"
      ]
     },
     "execution_count": 289,
     "metadata": {},
     "output_type": "execute_result"
    }
   ],
   "source": [
    "mId = 0\n",
    "movies.loc[mId]['Title']"
   ]
  },
  {
   "cell_type": "code",
   "execution_count": 292,
   "metadata": {
    "collapsed": false
   },
   "outputs": [
    {
     "data": {
      "text/html": [
       "<div>\n",
       "<table border=\"1\" class=\"dataframe\">\n",
       "  <thead>\n",
       "    <tr style=\"text-align: right;\">\n",
       "      <th></th>\n",
       "      <th>TagID</th>\n",
       "      <th>Tag</th>\n",
       "      <th>TagPopularity</th>\n",
       "    </tr>\n",
       "  </thead>\n",
       "  <tbody>\n",
       "    <tr>\n",
       "      <th>0</th>\n",
       "      <td>0</td>\n",
       "      <td>007</td>\n",
       "      <td>61</td>\n",
       "    </tr>\n",
       "    <tr>\n",
       "      <th>1</th>\n",
       "      <td>1</td>\n",
       "      <td>007 (series)</td>\n",
       "      <td>24</td>\n",
       "    </tr>\n",
       "    <tr>\n",
       "      <th>2</th>\n",
       "      <td>2</td>\n",
       "      <td>18th century</td>\n",
       "      <td>37</td>\n",
       "    </tr>\n",
       "    <tr>\n",
       "      <th>3</th>\n",
       "      <td>3</td>\n",
       "      <td>1920s</td>\n",
       "      <td>42</td>\n",
       "    </tr>\n",
       "    <tr>\n",
       "      <th>4</th>\n",
       "      <td>4</td>\n",
       "      <td>1930s</td>\n",
       "      <td>55</td>\n",
       "    </tr>\n",
       "  </tbody>\n",
       "</table>\n",
       "</div>"
      ],
      "text/plain": [
       "   TagID           Tag  TagPopularity\n",
       "0      0           007             61\n",
       "1      1  007 (series)             24\n",
       "2      2  18th century             37\n",
       "3      3         1920s             42\n",
       "4      4         1930s             55"
      ]
     },
     "execution_count": 292,
     "metadata": {},
     "output_type": "execute_result"
    }
   ],
   "source": [
    "tags.head()"
   ]
  },
  {
   "cell_type": "code",
   "execution_count": null,
   "metadata": {
    "collapsed": true
   },
   "outputs": [],
   "source": [
    "def tagSim(tA, tB):\n",
    "    relevanceA = genome[:, tA]\n",
    "    relevanceB = genome[:, tB]\n",
    "    return dist.cosine(relevanceA, relevanceB)"
   ]
  },
  {
   "cell_type": "code",
   "execution_count": null,
   "metadata": {
    "collapsed": true
   },
   "outputs": [],
   "source": [
    "# function which we want to minimize by S\n",
    "def objective_function(S, i):\n",
    "    \"|S| == 5\"\n",
    "    cond1(t) = popularity(t) >= 50\n",
    "    cond2(t) = np.all(np.array([tagSim(t, u) < 0.5 for u in S if t != u]))\n",
    "    cond3(t) = critiqueEntropy(t) > 0.325\n",
    "    ts = [t for t in S if cond1(t) and cond2(t) and cond3(t)]\n",
    "    iss = list(itt.repeat(i, 5))\n",
    "    return np.sum(critiqueEntropy(t, i) * np.log(popularity(t)))"
   ]
  },
  {
   "cell_type": "code",
   "execution_count": 11,
   "metadata": {
    "collapsed": false
   },
   "outputs": [],
   "source": [
    "def critiqueDist(critiquedMovieId, retrievedMovieId, tagId, direction):\n",
    "    ic, ir, t, d  = critiquedMovieId, retrievedMovieId, tagId, direction\n",
    "    return max(0, rel(t, ir) - rel(t, ic) * d)"
   ]
  },
  {
   "cell_type": "code",
   "execution_count": 13,
   "metadata": {
    "collapsed": false
   },
   "outputs": [],
   "source": [
    "# for uniform notation\n",
    "def linearSat(ic, ir, t, d):\n",
    "    critiqueDist(ic, ir, t,  d)"
   ]
  },
  {
   "cell_type": "code",
   "execution_count": 14,
   "metadata": {
    "collapsed": true
   },
   "outputs": [],
   "source": [
    "def diminishSat(ic, ir, t, d):\n",
    "    1 - np.exp(-5 * critiqueDist(ic, ir, t, d))"
   ]
  },
  {
   "cell_type": "code",
   "execution_count": null,
   "metadata": {
    "collapsed": true
   },
   "outputs": [],
   "source": []
  }
 ],
 "metadata": {
  "anaconda-cloud": {},
  "kernelspec": {
   "display_name": "Python [conda root]",
   "language": "python",
   "name": "conda-root-py"
  },
  "language_info": {
   "codemirror_mode": {
    "name": "ipython",
    "version": 3
   },
   "file_extension": ".py",
   "mimetype": "text/x-python",
   "name": "python",
   "nbconvert_exporter": "python",
   "pygments_lexer": "ipython3",
   "version": "3.5.2"
  }
 },
 "nbformat": 4,
 "nbformat_minor": 0
}
