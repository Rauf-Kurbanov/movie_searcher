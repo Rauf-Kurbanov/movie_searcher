{
 "cells": [
  {
   "cell_type": "code",
   "execution_count": 2,
   "metadata": {
    "collapsed": true
   },
   "outputs": [],
   "source": [
    "from os.path import join as pathJoin\n",
    "import pandas as pd\n",
    "import numpy as np\n",
    "import pickle\n",
    "import scipy.spatial.distance as dist\n",
    "from sklearn.preprocessing import normalize\n",
    "from sklearn.neighbors import NearestNeighbors, LSHForest\n",
    "import itertools as itt"
   ]
  },
  {
   "cell_type": "code",
   "execution_count": 3,
   "metadata": {
    "collapsed": true
   },
   "outputs": [],
   "source": [
    "data_root = \"tag-genome/\"\n",
    "\n",
    "MovieID_TagID_Relevance = pathJoin(data_root, \"tag_relevance.dat\")\n",
    "MovieID_Title_MoviePopularity = pathJoin(data_root, \"movies.dat\")\n",
    "TagID_Tag_TagPopularity = pathJoin(data_root, \"tags.dat\")"
   ]
  },
  {
   "cell_type": "code",
   "execution_count": 4,
   "metadata": {
    "collapsed": true
   },
   "outputs": [],
   "source": [
    "tag_relevance = pd.read_csv(MovieID_TagID_Relevance, delimiter='\\t', header=None, names=['MovieID', 'TagID', 'Relevance'])\n",
    "movies = pd.read_csv(MovieID_Title_MoviePopularity, delimiter='\\t', header=None, names=['MovieID', 'Title', 'MoviePopularity'])\n",
    "tags = pd.read_csv(TagID_Tag_TagPopularity, delimiter='\\t', header=None, names=['TagID', 'Tag', 'TagPopularity'])"
   ]
  },
  {
   "cell_type": "code",
   "execution_count": 6,
   "metadata": {
    "collapsed": true
   },
   "outputs": [],
   "source": [
    "with open('pickled/genome.pickle', 'rb') as f:\n",
    "    genome = pickle.load(f)\n",
    "genome = np.array(genome)"
   ]
  },
  {
   "cell_type": "code",
   "execution_count": 8,
   "metadata": {
    "collapsed": false
   },
   "outputs": [],
   "source": [
    "def popularity(tagId):\n",
    "    return tags.TagPopularity[tagId] + 1"
   ]
  },
  {
   "cell_type": "code",
   "execution_count": 9,
   "metadata": {
    "collapsed": true
   },
   "outputs": [],
   "source": [
    "def docFreq(tag):\n",
    "    byTag = genome[:, tag]\n",
    "    specific = [x for x in byTag if x > 0.5]\n",
    "    return len(specific) + 2"
   ]
  },
  {
   "cell_type": "code",
   "execution_count": 11,
   "metadata": {
    "collapsed": false
   },
   "outputs": [],
   "source": [
    "nTags = tags.shape[0]\n",
    "tag_weights = np.array([np.log(popularity(tagId)) / np.log(docFreq(tagId)) for tagId in range(nTags)])"
   ]
  },
  {
   "cell_type": "code",
   "execution_count": 12,
   "metadata": {
    "collapsed": false
   },
   "outputs": [
    {
     "data": {
      "text/plain": [
       "[6.8201789624151887,\n",
       " 6.1699250014423122,\n",
       " 4.5235619560570131,\n",
       " 3.236217269879349,\n",
       " 2.2435894449529292]"
      ]
     },
     "execution_count": 12,
     "metadata": {},
     "output_type": "execute_result"
    }
   ],
   "source": [
    "# need to get rid of inf\n",
    "sorted(tag_weights, reverse=True)[:5]"
   ]
  },
  {
   "cell_type": "code",
   "execution_count": 13,
   "metadata": {
    "collapsed": true
   },
   "outputs": [],
   "source": [
    "def weightedCosSimi(u, v):\n",
    "    '''Not exactly like in the article'''\n",
    "    return dist.cosine(u * tag_weights, v * tag_weights)"
   ]
  },
  {
   "cell_type": "code",
   "execution_count": 17,
   "metadata": {
    "collapsed": true
   },
   "outputs": [],
   "source": [
    "def articleCosSimi(u, v):\n",
    "    '''Exactly like in the article'''\n",
    "    w = tag_weights\n",
    "    x = np.sum(w * u * v)\n",
    "    y = np.sqrt(sum(w * u * u)) * np.sqrt(sum(w * v * v)) \n",
    "    return  x / y "
   ]
  },
  {
   "cell_type": "code",
   "execution_count": 15,
   "metadata": {
    "collapsed": true
   },
   "outputs": [],
   "source": [
    "def rel(tagId, movId):\n",
    "    return genome[movId, tagId]"
   ]
  },
  {
   "cell_type": "code",
   "execution_count": 16,
   "metadata": {
    "collapsed": false
   },
   "outputs": [],
   "source": [
    "def critiqueDist(critiquedMovieId, retrievedMovieId, tagId, direction):\n",
    "    ic, ir, t, d  = critiquedMovieId, retrievedMovieId, tagId, direction\n",
    "    return max(0, rel(t, ir) - rel(t, ic) * d)"
   ]
  },
  {
   "cell_type": "code",
   "execution_count": 17,
   "metadata": {
    "collapsed": true
   },
   "outputs": [],
   "source": [
    "def printNeigh(randMovNum, indices):\n",
    "    neighbors = indices[randMovNum]\n",
    "    for mid in neighbors:\n",
    "        print(movies.loc[mid][\"Title\"])"
   ]
  },
  {
   "cell_type": "code",
   "execution_count": 128,
   "metadata": {
    "collapsed": false
   },
   "outputs": [
    {
     "data": {
      "text/plain": [
       "NearestNeighbors(algorithm='brute', leaf_size=30,\n",
       "         metric=<function cosine at 0x7f270d5d0f28>, metric_params=None,\n",
       "         n_jobs=1, n_neighbors=250, p=2, radius=1.0)"
      ]
     },
     "execution_count": 128,
     "metadata": {},
     "output_type": "execute_result"
    }
   ],
   "source": [
    "X = genome.copy()\n",
    "X = X * tag_weights\n",
    "nbrs_art2 = NearestNeighbors(algorithm=\"brute\", metric=dist.cosine, n_neighbors=250)\n",
    "# nbrs_art2 = LSHForest(n_candidates = 500, n_neighbors = 250)\n",
    "nbrs_art2.fit(X)"
   ]
  },
  {
   "cell_type": "code",
   "execution_count": 64,
   "metadata": {
    "collapsed": false
   },
   "outputs": [],
   "source": [
    "# distances_art2"
   ]
  },
  {
   "cell_type": "code",
   "execution_count": 269,
   "metadata": {
    "collapsed": false
   },
   "outputs": [
    {
     "data": {
      "text/html": [
       "<div>\n",
       "<table border=\"1\" class=\"dataframe\">\n",
       "  <thead>\n",
       "    <tr style=\"text-align: right;\">\n",
       "      <th></th>\n",
       "      <th>MovieID</th>\n",
       "      <th>Title</th>\n",
       "      <th>MoviePopularity</th>\n",
       "    </tr>\n",
       "  </thead>\n",
       "  <tbody>\n",
       "    <tr>\n",
       "      <th>0</th>\n",
       "      <td>1</td>\n",
       "      <td>Toy Story (1995)</td>\n",
       "      <td>53059</td>\n",
       "    </tr>\n",
       "    <tr>\n",
       "      <th>1</th>\n",
       "      <td>2</td>\n",
       "      <td>Jumanji (1995)</td>\n",
       "      <td>22466</td>\n",
       "    </tr>\n",
       "    <tr>\n",
       "      <th>2</th>\n",
       "      <td>3</td>\n",
       "      <td>Grumpier Old Men (1995)</td>\n",
       "      <td>15111</td>\n",
       "    </tr>\n",
       "    <tr>\n",
       "      <th>3</th>\n",
       "      <td>4</td>\n",
       "      <td>Waiting to Exhale (1995)</td>\n",
       "      <td>2898</td>\n",
       "    </tr>\n",
       "    <tr>\n",
       "      <th>4</th>\n",
       "      <td>5</td>\n",
       "      <td>Father of the Bride Part II (1995)</td>\n",
       "      <td>14323</td>\n",
       "    </tr>\n",
       "  </tbody>\n",
       "</table>\n",
       "</div>"
      ],
      "text/plain": [
       "   MovieID                               Title  MoviePopularity\n",
       "0        1                    Toy Story (1995)            53059\n",
       "1        2                      Jumanji (1995)            22466\n",
       "2        3             Grumpier Old Men (1995)            15111\n",
       "3        4            Waiting to Exhale (1995)             2898\n",
       "4        5  Father of the Bride Part II (1995)            14323"
      ]
     },
     "execution_count": 269,
     "metadata": {},
     "output_type": "execute_result"
    }
   ],
   "source": [
    "movies.head()"
   ]
  },
  {
   "cell_type": "code",
   "execution_count": 90,
   "metadata": {
    "collapsed": false
   },
   "outputs": [],
   "source": [
    "def neighbours_index(i):\n",
    "    _, indices_art2 = nbrs_art2.kneighbors(X[i,:].reshape(1, -1))\n",
    "    return indices_art2[0]\n",
    "\n",
    "def N(i):\n",
    "    return neighbours_index(i)\n",
    "\n",
    "def Np(i, t, Ni):\n",
    "    delta = 0.25\n",
    "    return [j for j in Ni if rel(t, j) > rel(t, i) + delta]\n",
    "\n",
    "def Nn(i, t, Ni):\n",
    "    delta = 0.25\n",
    "    return [j for j in Ni if rel(t, j) < rel(t, i) - delta]\n",
    "\n",
    "def Nz(i, t, Ni):\n",
    "    return [j for j in Ni if j not in Np(i, t, Ni) and j not in Nn(i, t, Ni)]"
   ]
  },
  {
   "cell_type": "code",
   "execution_count": 89,
   "metadata": {
    "collapsed": true
   },
   "outputs": [],
   "source": [
    "def critiqueEntropy(t, i):\n",
    "    Ni = N(i)\n",
    "    res = 0\n",
    "    for Nd in [Nn(i, t, Ni), Nz(i, t, Ni), Np(i, t, Ni)] : \n",
    "        res += critiqueEntropyH(t, i, Nd, Ni)\n",
    "    return res"
   ]
  },
  {
   "cell_type": "code",
   "execution_count": 91,
   "metadata": {
    "collapsed": true
   },
   "outputs": [],
   "source": [
    "def critiqueEntropyH(t, i, Nd, Ni):\n",
    "    modNd = len(Nd) + 1\n",
    "    modN = len(Ni)\n",
    "    return - modNd / modN * np.log(modNd / modN)"
   ]
  },
  {
   "cell_type": "code",
   "execution_count": 101,
   "metadata": {
    "collapsed": false
   },
   "outputs": [
    {
     "data": {
      "text/plain": [
       "0.12746999025767508"
      ]
     },
     "execution_count": 101,
     "metadata": {},
     "output_type": "execute_result"
    }
   ],
   "source": [
    "t = 12\n",
    "i = 123\n",
    "critiqueEntropy(t, i)\n",
    "# b = N(i)\n",
    "# rel(t, 0)\n",
    "# for ii in range(i):\n",
    "#     print(rel(t, ii))\n",
    "# N(i)\n",
    "# Np(i, t)\n",
    "# Nn(i, t)\n",
    "# Nz(i, t)"
   ]
  },
  {
   "cell_type": "code",
   "execution_count": 63,
   "metadata": {
    "collapsed": false
   },
   "outputs": [
    {
     "data": {
      "text/plain": [
       "array([ 0.191,  0.238,  0.131, ...,  0.092,  0.039,  0.104])"
      ]
     },
     "execution_count": 63,
     "metadata": {},
     "output_type": "execute_result"
    }
   ],
   "source": [
    "genome[: , 12]"
   ]
  },
  {
   "cell_type": "code",
   "execution_count": 31,
   "metadata": {
    "collapsed": false
   },
   "outputs": [
    {
     "data": {
      "text/plain": [
       "'Toy Story (1995)'"
      ]
     },
     "execution_count": 31,
     "metadata": {},
     "output_type": "execute_result"
    }
   ],
   "source": [
    "mId = 0\n",
    "movies.loc[mId]['Title']"
   ]
  },
  {
   "cell_type": "code",
   "execution_count": 292,
   "metadata": {
    "collapsed": false
   },
   "outputs": [
    {
     "data": {
      "text/html": [
       "<div>\n",
       "<table border=\"1\" class=\"dataframe\">\n",
       "  <thead>\n",
       "    <tr style=\"text-align: right;\">\n",
       "      <th></th>\n",
       "      <th>TagID</th>\n",
       "      <th>Tag</th>\n",
       "      <th>TagPopularity</th>\n",
       "    </tr>\n",
       "  </thead>\n",
       "  <tbody>\n",
       "    <tr>\n",
       "      <th>0</th>\n",
       "      <td>0</td>\n",
       "      <td>007</td>\n",
       "      <td>61</td>\n",
       "    </tr>\n",
       "    <tr>\n",
       "      <th>1</th>\n",
       "      <td>1</td>\n",
       "      <td>007 (series)</td>\n",
       "      <td>24</td>\n",
       "    </tr>\n",
       "    <tr>\n",
       "      <th>2</th>\n",
       "      <td>2</td>\n",
       "      <td>18th century</td>\n",
       "      <td>37</td>\n",
       "    </tr>\n",
       "    <tr>\n",
       "      <th>3</th>\n",
       "      <td>3</td>\n",
       "      <td>1920s</td>\n",
       "      <td>42</td>\n",
       "    </tr>\n",
       "    <tr>\n",
       "      <th>4</th>\n",
       "      <td>4</td>\n",
       "      <td>1930s</td>\n",
       "      <td>55</td>\n",
       "    </tr>\n",
       "  </tbody>\n",
       "</table>\n",
       "</div>"
      ],
      "text/plain": [
       "   TagID           Tag  TagPopularity\n",
       "0      0           007             61\n",
       "1      1  007 (series)             24\n",
       "2      2  18th century             37\n",
       "3      3         1920s             42\n",
       "4      4         1930s             55"
      ]
     },
     "execution_count": 292,
     "metadata": {},
     "output_type": "execute_result"
    }
   ],
   "source": [
    "tags.head()"
   ]
  },
  {
   "cell_type": "code",
   "execution_count": 32,
   "metadata": {
    "collapsed": true
   },
   "outputs": [],
   "source": [
    "def tagSim(tA, tB):\n",
    "    relevanceA = genome[:, tA]\n",
    "    relevanceB = genome[:, tB]\n",
    "    return dist.cosine(relevanceA, relevanceB)"
   ]
  },
  {
   "cell_type": "code",
   "execution_count": 126,
   "metadata": {
    "collapsed": false
   },
   "outputs": [],
   "source": [
    "# function which we want to minimize by S\n",
    "def objective_function(S, i):\n",
    "    \"|S| == 5\"\n",
    "    cond1 = lambda t : popularity(t) >= 50\n",
    "    cond2 = lambda t : np.all(np.array([tagSim(t, u) < 0.5 for u in S if t != u]))\n",
    "    cond3 = lambda t : critiqueEntropy(t) > 0.325\n",
    "    ts = [t for t in S if cond1(t) and cond2(t) and cond3(t)]\n",
    "    iss = list(itt.repeat(i, 5))\n",
    "    return np.sum([critiqueEntropy(t, i) * np.log(popularity(t)) for t in ts])"
   ]
  },
  {
   "cell_type": "code",
   "execution_count": 127,
   "metadata": {
    "collapsed": false
   },
   "outputs": [
    {
     "data": {
      "text/plain": [
       "0.0"
      ]
     },
     "execution_count": 127,
     "metadata": {},
     "output_type": "execute_result"
    }
   ],
   "source": [
    "objective_function([1, 123, 12, 14, 50], 12)"
   ]
  }
 ],
 "metadata": {
  "anaconda-cloud": {},
  "kernelspec": {
   "display_name": "Python [Root]",
   "language": "python",
   "name": "Python [Root]"
  },
  "language_info": {
   "codemirror_mode": {
    "name": "ipython",
    "version": 3
   },
   "file_extension": ".py",
   "mimetype": "text/x-python",
   "name": "python",
   "nbconvert_exporter": "python",
   "pygments_lexer": "ipython3",
   "version": "3.5.1"
  }
 },
 "nbformat": 4,
 "nbformat_minor": 0
}
