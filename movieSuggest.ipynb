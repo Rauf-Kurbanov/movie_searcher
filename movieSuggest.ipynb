{
 "cells": [
  {
   "cell_type": "code",
   "execution_count": 1,
   "metadata": {
    "collapsed": true
   },
   "outputs": [],
   "source": [
    "from suggester.suggester import Suggester\n",
    "import itertools as itt\n",
    "import numpy as np"
   ]
  },
  {
   "cell_type": "code",
   "execution_count": 2,
   "metadata": {
    "collapsed": false
   },
   "outputs": [
    {
     "name": "stderr",
     "output_type": "stream",
     "text": [
      "/home/rauf/Programs/semester_3/information_retrieval/movie_searcher/suggester/suggester.py:68: FutureWarning: in the future, boolean array-likes will be handled as a boolean array index\n",
      "  return np.argmax(movies.index.values[movies.Title == movie_name])\n"
     ]
    }
   ],
   "source": [
    "suggester = Suggester(6)"
   ]
  },
  {
   "cell_type": "code",
   "execution_count": 3,
   "metadata": {
    "collapsed": true
   },
   "outputs": [],
   "source": [
    "def getNextRecs(self, selectedMovie, tags):\n",
    "    \"\"\"Gets the selected movie :: string and new tag values :: ([name], [currentVals])\n",
    "       and returns a new movies list\"\"\"\n",
    "    selectedMovie = self.__movieTitleToNum(selectedMovie)\n",
    "    tagNames, tagValues = tags\n",
    "    directions = [1 if p < c else 0 if p == c else -1\n",
    "                  for (p, c) in zip(self.prev_tag_values, tagValues)]\n",
    "    tagAndDir = [td for td in enumerate(directions) if td[1] != 0]\n",
    "\n",
    "    def norm(mId):\n",
    "        return np.product([self.metrics.critiqueFit(selectedMovie, mId, tag, d)\n",
    "                           for tag, d in tagAndDir])\n",
    "\n",
    "    candidates = self.metrics.movie_neighbours(selectedMovie)\n",
    "    for tag, d in tagAndDir:\n",
    "        candidates = [c for c in candidates if self.metrics.critiqueDist(selectedMovie, c, tag, d) > 0]\n",
    "\n",
    "    candidates = sorted(candidates, key=norm)[:5]\n",
    "    self.curr_movie = selectedMovie\n",
    "    return list(self.movies.loc[candidates].Title)"
   ]
  },
  {
   "cell_type": "code",
   "execution_count": 4,
   "metadata": {
    "collapsed": true
   },
   "outputs": [],
   "source": [
    "selectedMovie = \"Frozen (2013)\"\n",
    "tags = (['classic', 'based on a book', 'adventure', 'robot', 'stereotypes', 'Char6'], [33, 42, 71, 4, 41, 12])\n",
    "self = suggester"
   ]
  },
  {
   "cell_type": "code",
   "execution_count": 6,
   "metadata": {
    "collapsed": false
   },
   "outputs": [
    {
     "name": "stderr",
     "output_type": "stream",
     "text": [
      "/home/rauf/Programs/semester_3/information_retrieval/movie_searcher/suggester/suggester.py:68: FutureWarning: in the future, boolean array-likes will be handled as a boolean array index\n",
      "  return np.argmax(movies.index.values[movies.Title == movie_name])\n"
     ]
    },
    {
     "data": {
      "text/plain": [
       "['Watership Down (1978)',\n",
       " \"There's No Business Like Show Business (1954)\",\n",
       " \"Gulliver's Travels (1939)\",\n",
       " 'Pirates of the Caribbean: The Curse of the Black Pearl (2003)',\n",
       " 'Heidi (1937)']"
      ]
     },
     "execution_count": 6,
     "metadata": {},
     "output_type": "execute_result"
    }
   ],
   "source": [
    "selectedMovie = self._movieTitleToNum(selectedMovie)\n",
    "tagNames, tagValues = tags\n",
    "directions = [1 if p < c else 0 if p == c else -1\n",
    "              for (p, c) in zip(self.prev_tag_values, tagValues)]\n",
    "tagAndDir = [td for td in enumerate(directions) if td[1] != 0]\n",
    "\n",
    "def norm(mId):\n",
    "    return np.product([self.metrics.critiqueFit(selectedMovie, mId, tag, d)\n",
    "                       for tag, d in tagAndDir])\n",
    "\n",
    "candidates = self.metrics.movie_neighbours(selectedMovie)\n",
    "for tag, d in tagAndDir:\n",
    "    candidates = [c for c in candidates if self.metrics.critiqueDist(selectedMovie, c, tag, d) > 0]\n",
    "\n",
    "candidates = sorted(candidates, key=norm)[:5]\n",
    "self.curr_movie = selectedMovie\n",
    "list(self.movies.loc[candidates].Title)"
   ]
  }
 ],
 "metadata": {
  "kernelspec": {
   "display_name": "Python [conda root]",
   "language": "python",
   "name": "conda-root-py"
  },
  "language_info": {
   "codemirror_mode": {
    "name": "ipython",
    "version": 3
   },
   "file_extension": ".py",
   "mimetype": "text/x-python",
   "name": "python",
   "nbconvert_exporter": "python",
   "pygments_lexer": "ipython3",
   "version": "3.5.2"
  }
 },
 "nbformat": 4,
 "nbformat_minor": 0
}
