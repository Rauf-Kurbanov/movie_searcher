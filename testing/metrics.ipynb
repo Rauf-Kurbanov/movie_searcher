{
 "cells": [
  {
   "cell_type": "code",
   "execution_count": 1,
   "metadata": {
    "collapsed": true
   },
   "outputs": [],
   "source": [
    "from os.path import join as pathJoin\n",
    "import pandas as pd\n",
    "import numpy as np\n",
    "import pickle\n",
    "import scipy.spatial.distance as dist\n",
    "from sklearn.preprocessing import normalize\n",
    "from sklearn.neighbors import NearestNeighbors\n",
    "import itertools as itt"
   ]
  },
  {
   "cell_type": "code",
   "execution_count": 4,
   "metadata": {
    "collapsed": true
   },
   "outputs": [],
   "source": [
    "data_root = \"../tag-genome\"\n",
    "\n",
    "MovieID_TagID_Relevance = pathJoin(data_root, \"tag_relevance.dat\")\n",
    "MovieID_Title_MoviePopularity = pathJoin(data_root, \"movies.dat\")\n",
    "TagID_Tag_TagPopularity = pathJoin(data_root, \"tags.dat\")"
   ]
  },
  {
   "cell_type": "code",
   "execution_count": 38,
   "metadata": {
    "collapsed": false
   },
   "outputs": [],
   "source": [
    "tag_relevance = pd.read_csv(MovieID_TagID_Relevance, delimiter='\\t', header=None, names=['MovieID', 'TagID', 'Relevance'])\n",
    "movies = pd.read_csv(MovieID_Title_MoviePopularity, delimiter='\\t', header=None, names=['MovieID', 'Title', 'MoviePopularity'])\n",
    "tags = pd.read_csv(TagID_Tag_TagPopularity, delimiter='\\t', header=None, names=['TagID', 'Tag', 'TagPopularity'])"
   ]
  },
  {
   "cell_type": "code",
   "execution_count": 39,
   "metadata": {
    "collapsed": true
   },
   "outputs": [],
   "source": [
    "with open('../tag-genome/pickled/genome.pickle', 'rb') as f:\n",
    "    genome = pickle.load(f)"
   ]
  },
  {
   "cell_type": "code",
   "execution_count": 49,
   "metadata": {
    "collapsed": false
   },
   "outputs": [
    {
     "data": {
      "text/plain": [
       "['Jumanji (1995)',\n",
       " 'Grumpier Old Men (1995)',\n",
       " 'Waiting to Exhale (1995)',\n",
       " 'Father of the Bride Part II (1995)',\n",
       " 'Heat (1995)']"
      ]
     },
     "execution_count": 49,
     "metadata": {},
     "output_type": "execute_result"
    }
   ],
   "source": [
    "genome = np.array(genome)\n",
    "list(movies.Title.loc[1:5])"
   ]
  },
  {
   "cell_type": "code",
   "execution_count": 13,
   "metadata": {
    "collapsed": false
   },
   "outputs": [],
   "source": [
    "def popularity(tagId):\n",
    "    return tags.TagPopularity[tagId] + 1"
   ]
  },
  {
   "cell_type": "code",
   "execution_count": 14,
   "metadata": {
    "collapsed": true
   },
   "outputs": [],
   "source": [
    "def docFreq(tag):\n",
    "    byTag = genome[:, tag]\n",
    "    specific = [x for x in byTag if x > 0.5]\n",
    "    return len(specific) + 2"
   ]
  },
  {
   "cell_type": "code",
   "execution_count": 15,
   "metadata": {
    "collapsed": false
   },
   "outputs": [],
   "source": [
    "tag_weights = np.array([np.log(popularity(tagId)) / np.log(docFreq(tagId)) for tagId in range(tags.shape[0])])"
   ]
  },
  {
   "cell_type": "code",
   "execution_count": 20,
   "metadata": {
    "collapsed": false
   },
   "outputs": [
    {
     "data": {
      "text/plain": [
       "[6.8201789624151887,\n",
       " 6.1699250014423122,\n",
       " 4.5235619560570131,\n",
       " 3.236217269879349,\n",
       " 2.2435894449529292]"
      ]
     },
     "execution_count": 20,
     "metadata": {},
     "output_type": "execute_result"
    }
   ],
   "source": [
    "# need to get rid of inf\n",
    "sorted(tag_weights, reverse=True)[:5]"
   ]
  },
  {
   "cell_type": "code",
   "execution_count": 13,
   "metadata": {
    "collapsed": false
   },
   "outputs": [],
   "source": [
    "infID = np.argmax(tag_weights)\n",
    "tag_weights[infID] = 9"
   ]
  },
  {
   "cell_type": "code",
   "execution_count": 17,
   "metadata": {
    "collapsed": true
   },
   "outputs": [],
   "source": [
    "def weightedCosSimi(u, v):\n",
    "    '''Not exactly like in the article'''\n",
    "    return dist.cosine(u * tag_weights, v * tag_weights)"
   ]
  },
  {
   "cell_type": "code",
   "execution_count": 21,
   "metadata": {
    "collapsed": true
   },
   "outputs": [],
   "source": [
    "def articleCosSimi(u, v):\n",
    "    '''Exactly like in the article'''\n",
    "    w = tag_weights\n",
    "    x = np.sum(w * u * v)\n",
    "    y = np.sqrt(sum(w * u * u)) * np.sqrt(sum(w * v * v)) \n",
    "    return  x / y"
   ]
  },
  {
   "cell_type": "code",
   "execution_count": 22,
   "metadata": {
    "collapsed": true
   },
   "outputs": [],
   "source": [
    "def rel(tagId, movId):\n",
    "    return genome[movId, tagId]"
   ]
  },
  {
   "cell_type": "code",
   "execution_count": 23,
   "metadata": {
    "collapsed": false
   },
   "outputs": [],
   "source": [
    "# def critiqueDist(critiquedMovieId, retrievedMovieId, tagId, direction):\n",
    "#     ic, ir, t, d  = critiquedMovieId, retrievedMovieId, tagId, direction\n",
    "#     return max(0, rel(t, ir) - rel(t, ic) * d)"
   ]
  },
  {
   "cell_type": "code",
   "execution_count": 24,
   "metadata": {
    "collapsed": true
   },
   "outputs": [],
   "source": [
    "def printNeigh(randMovNum, indices):\n",
    "    neighbors = indices[randMovNum]\n",
    "    for mid in neighbors:\n",
    "        print(movies.loc[mid][\"Title\"])"
   ]
  },
  {
   "cell_type": "code",
   "execution_count": 37,
   "metadata": {
    "collapsed": false
   },
   "outputs": [
    {
     "data": {
      "text/plain": [
       "NearestNeighbors(algorithm='brute', leaf_size=30,\n",
       "         metric=<function articleCosSimi at 0x7f774cd98400>,\n",
       "         metric_params=None, n_jobs=1, n_neighbors=250, p=2, radius=1.0)"
      ]
     },
     "execution_count": 37,
     "metadata": {},
     "output_type": "execute_result"
    }
   ],
   "source": [
    "X = genome.copy()\n",
    "nbrs_art2 = NearestNeighbors(algorithm=\"brute\", metric=weightedCosSimi, n_neighbors=250)\n",
    "nbrs_art2.fit(X)\n",
    "distances_art2, indices_art2 = nbrs_art2.kneighbors(X)"
   ]
  },
  {
   "cell_type": "code",
   "execution_count": null,
   "metadata": {
    "collapsed": true
   },
   "outputs": [],
   "source": [
    "with open('pickled/KNN-neib=250-metr=article.pickle', 'wb') as f:\n",
    "    pickle.dump(nbrs_art2, f)"
   ]
  },
  {
   "cell_type": "code",
   "execution_count": 269,
   "metadata": {
    "collapsed": false
   },
   "outputs": [
    {
     "data": {
      "text/html": [
       "<div>\n",
       "<table border=\"1\" class=\"dataframe\">\n",
       "  <thead>\n",
       "    <tr style=\"text-align: right;\">\n",
       "      <th></th>\n",
       "      <th>MovieID</th>\n",
       "      <th>Title</th>\n",
       "      <th>MoviePopularity</th>\n",
       "    </tr>\n",
       "  </thead>\n",
       "  <tbody>\n",
       "    <tr>\n",
       "      <th>0</th>\n",
       "      <td>1</td>\n",
       "      <td>Toy Story (1995)</td>\n",
       "      <td>53059</td>\n",
       "    </tr>\n",
       "    <tr>\n",
       "      <th>1</th>\n",
       "      <td>2</td>\n",
       "      <td>Jumanji (1995)</td>\n",
       "      <td>22466</td>\n",
       "    </tr>\n",
       "    <tr>\n",
       "      <th>2</th>\n",
       "      <td>3</td>\n",
       "      <td>Grumpier Old Men (1995)</td>\n",
       "      <td>15111</td>\n",
       "    </tr>\n",
       "    <tr>\n",
       "      <th>3</th>\n",
       "      <td>4</td>\n",
       "      <td>Waiting to Exhale (1995)</td>\n",
       "      <td>2898</td>\n",
       "    </tr>\n",
       "    <tr>\n",
       "      <th>4</th>\n",
       "      <td>5</td>\n",
       "      <td>Father of the Bride Part II (1995)</td>\n",
       "      <td>14323</td>\n",
       "    </tr>\n",
       "  </tbody>\n",
       "</table>\n",
       "</div>"
      ],
      "text/plain": [
       "   MovieID                               Title  MoviePopularity\n",
       "0        1                    Toy Story (1995)            53059\n",
       "1        2                      Jumanji (1995)            22466\n",
       "2        3             Grumpier Old Men (1995)            15111\n",
       "3        4            Waiting to Exhale (1995)             2898\n",
       "4        5  Father of the Bride Part II (1995)            14323"
      ]
     },
     "execution_count": 269,
     "metadata": {},
     "output_type": "execute_result"
    }
   ],
   "source": [
    "movies.head()"
   ]
  },
  {
   "cell_type": "code",
   "execution_count": 283,
   "metadata": {
    "collapsed": false
   },
   "outputs": [],
   "source": [
    "def N(i):\n",
    "    return indices_art2[randMovNum]\n",
    "\n",
    "def Np(i, t):\n",
    "    delta = 0.23\n",
    "    return [j for j in N(i) if rel(t, j) > rel(t, i) + delta]\n",
    "\n",
    "def Nn(i, t):\n",
    "    delta = 0.23\n",
    "    return [j for j in N(i) if rel(t, j) < rel(t, i) - delta]\n",
    "\n",
    "def Nz(i, t):\n",
    "    return [j for j in N(i) if j not in Np(i, t) and  j not in Nn(i, t)]"
   ]
  },
  {
   "cell_type": "code",
   "execution_count": null,
   "metadata": {
    "collapsed": true
   },
   "outputs": [],
   "source": [
    "def critiqueEntropy(t, i):\n",
    "    Nd = np.array(Nn(i, t), Nz(i, t), Np(i, t))\n",
    "    modNd = [len(Nx) for Nx in Nd]\n",
    "    modN = len(N(i))\n",
    "    return np.sum(- modNd / modN * np.log(modNd / modN))"
   ]
  },
  {
   "cell_type": "code",
   "execution_count": 286,
   "metadata": {
    "collapsed": false
   },
   "outputs": [],
   "source": [
    "def idToNum(num):\n",
    "    pass"
   ]
  },
  {
   "cell_type": "code",
   "execution_count": 289,
   "metadata": {
    "collapsed": false
   },
   "outputs": [
    {
     "data": {
      "text/plain": [
       "'Toy Story (1995)'"
      ]
     },
     "execution_count": 289,
     "metadata": {},
     "output_type": "execute_result"
    }
   ],
   "source": [
    "mId = 0\n",
    "movies.loc[mId]['Title']"
   ]
  },
  {
   "cell_type": "code",
   "execution_count": 292,
   "metadata": {
    "collapsed": false
   },
   "outputs": [
    {
     "data": {
      "text/html": [
       "<div>\n",
       "<table border=\"1\" class=\"dataframe\">\n",
       "  <thead>\n",
       "    <tr style=\"text-align: right;\">\n",
       "      <th></th>\n",
       "      <th>TagID</th>\n",
       "      <th>Tag</th>\n",
       "      <th>TagPopularity</th>\n",
       "    </tr>\n",
       "  </thead>\n",
       "  <tbody>\n",
       "    <tr>\n",
       "      <th>0</th>\n",
       "      <td>0</td>\n",
       "      <td>007</td>\n",
       "      <td>61</td>\n",
       "    </tr>\n",
       "    <tr>\n",
       "      <th>1</th>\n",
       "      <td>1</td>\n",
       "      <td>007 (series)</td>\n",
       "      <td>24</td>\n",
       "    </tr>\n",
       "    <tr>\n",
       "      <th>2</th>\n",
       "      <td>2</td>\n",
       "      <td>18th century</td>\n",
       "      <td>37</td>\n",
       "    </tr>\n",
       "    <tr>\n",
       "      <th>3</th>\n",
       "      <td>3</td>\n",
       "      <td>1920s</td>\n",
       "      <td>42</td>\n",
       "    </tr>\n",
       "    <tr>\n",
       "      <th>4</th>\n",
       "      <td>4</td>\n",
       "      <td>1930s</td>\n",
       "      <td>55</td>\n",
       "    </tr>\n",
       "  </tbody>\n",
       "</table>\n",
       "</div>"
      ],
      "text/plain": [
       "   TagID           Tag  TagPopularity\n",
       "0      0           007             61\n",
       "1      1  007 (series)             24\n",
       "2      2  18th century             37\n",
       "3      3         1920s             42\n",
       "4      4         1930s             55"
      ]
     },
     "execution_count": 292,
     "metadata": {},
     "output_type": "execute_result"
    }
   ],
   "source": [
    "tags.head()"
   ]
  },
  {
   "cell_type": "code",
   "execution_count": null,
   "metadata": {
    "collapsed": true
   },
   "outputs": [],
   "source": [
    "def tagSim(tA, tB):\n",
    "    relevanceA = genome[:, tA]\n",
    "    relevanceB = genome[:, tB]\n",
    "    return dist.cosine(relevanceA, relevanceB)"
   ]
  },
  {
   "cell_type": "code",
   "execution_count": null,
   "metadata": {
    "collapsed": true
   },
   "outputs": [],
   "source": [
    "# function which we want to minimize by S\n",
    "def objective_function(S, i):\n",
    "    \"|S| == 5\"\n",
    "    cond1(t) = popularity(t) >= 50\n",
    "    cond2(t) = np.all(np.array([tagSim(t, u) < 0.5 for u in S if t != u]))\n",
    "    cond3(t) = critiqueEntropy(t) > 0.325\n",
    "    ts = [t for t in S if cond1(t) and cond2(t) and cond3(t)]\n",
    "    iss = list(itt.repeat(i, 5))\n",
    "    return np.sum(critiqueEntropy(t, i) * np.log(popularity(t)))"
   ]
  },
  {
   "cell_type": "code",
   "execution_count": 11,
   "metadata": {
    "collapsed": false
   },
   "outputs": [],
   "source": [
    "def critiqueDist(critiquedMovieId, retrievedMovieId, tagId, direction):\n",
    "    ic, ir, t, d  = critiquedMovieId, retrievedMovieId, tagId, direction\n",
    "    return max(0, rel(t, ir) - rel(t, ic) * d)"
   ]
  },
  {
   "cell_type": "code",
   "execution_count": 13,
   "metadata": {
    "collapsed": false
   },
   "outputs": [],
   "source": [
    "# for uniform notation\n",
    "def linearSat(ic, ir, t, d):\n",
    "    critiqueDist(ic, ir, t,  d)"
   ]
  },
  {
   "cell_type": "code",
   "execution_count": 14,
   "metadata": {
    "collapsed": true
   },
   "outputs": [],
   "source": [
    "def diminishSat(ic, ir, t, d):\n",
    "    1 - np.exp(-5 * critiqueDist(ic, ir, t, d))"
   ]
  },
  {
   "cell_type": "code",
   "execution_count": 5,
   "metadata": {
    "collapsed": false
   },
   "outputs": [
    {
     "data": {
      "text/plain": [
       "'tt0112641'"
      ]
     },
     "execution_count": 5,
     "metadata": {},
     "output_type": "execute_result"
    }
   ],
   "source": [
    "import os.path, sys\n",
    "sys.path.append(\"/home/esengie/Programming/au/IR/movie_searcher/\")\n",
    "from internet.movies import *\n",
    "\n",
    "mov = Movies()\n",
    "mov.imdb_id_from_title(\"Casino\")"
   ]
  }
 ],
 "metadata": {
  "anaconda-cloud": {},
  "kernelspec": {
   "display_name": "Python [Root]",
   "language": "python",
   "name": "Python [Root]"
  },
  "language_info": {
   "codemirror_mode": {
    "name": "ipython",
    "version": 3
   },
   "file_extension": ".py",
   "mimetype": "text/x-python",
   "name": "python",
   "nbconvert_exporter": "python",
   "pygments_lexer": "ipython3",
   "version": "3.5.1"
  }
 },
 "nbformat": 4,
 "nbformat_minor": 0
}
